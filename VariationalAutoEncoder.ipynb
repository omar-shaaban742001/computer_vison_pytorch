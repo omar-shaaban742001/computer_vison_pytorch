{
  "nbformat": 4,
  "nbformat_minor": 0,
  "metadata": {
    "colab": {
      "provenance": [],
      "gpuType": "T4"
    },
    "kernelspec": {
      "name": "python3",
      "display_name": "Python 3"
    },
    "language_info": {
      "name": "python"
    },
    "accelerator": "GPU"
  },
  "cells": [
    {
      "cell_type": "code",
      "execution_count": 1,
      "metadata": {
        "id": "G2SalyIo-NeN"
      },
      "outputs": [],
      "source": [
        "import torch\n",
        "import torchvision\n",
        "import torchvision.datasets as dataset\n",
        "from torch import nn, optim\n",
        "from torch.utils.data import DataLoader\n",
        "from torchvision import transforms\n",
        "from torchvision.utils import save_image\n",
        "import matplotlib.pyplot as plt\n",
        "from tqdm import tqdm"
      ]
    },
    {
      "cell_type": "markdown",
      "source": [
        "# Model"
      ],
      "metadata": {
        "id": "tYfJG1MHAuX3"
      }
    },
    {
      "cell_type": "code",
      "source": [
        "class VariationalAutoEncoder(nn.Module):\n",
        "  def __init__(self,input_dim,h_dim,z_dim):\n",
        "    super(VariationalAutoEncoder, self).__init__()\n",
        "\n",
        "    #encoder\n",
        "    self.img_2hid = nn.Linear(input_dim, h_dim)\n",
        "    self.hid_2mu = nn.Linear(h_dim,z_dim)\n",
        "    self.hid_2sigma = nn.Linear(h_dim,z_dim)\n",
        "\n",
        "    #decoder\n",
        "    self.z_2hid = nn.Linear(z_dim,h_dim)\n",
        "    self.hid_2img = nn.Linear(h_dim,input_dim)\n",
        "\n",
        "    self.relu = nn.ReLU()\n",
        "\n",
        "  def encoder(self,x):\n",
        "      h = self.relu(self.img_2hid(x))\n",
        "      mu, sigma = self.hid_2mu(h), self.hid_2sigma(h)\n",
        "      return mu, sigma\n",
        "\n",
        "  def decoder(self,z):\n",
        "      h = self.relu(self.z_2hid(z))\n",
        "      return torch.sigmoid(self.hid_2img(h))\n",
        "\n",
        "  def forward(self,x):\n",
        "      mu, sigma = self.encoder(x)\n",
        "      parameterizaion = mu + sigma*torch.randn_like(sigma)\n",
        "      x_reconstructed = self.decoder(parameterizaion)\n",
        "      return x_reconstructed, mu, sigma\n",
        "\n"
      ],
      "metadata": {
        "id": "8qnJKiJs-YJH"
      },
      "execution_count": 2,
      "outputs": []
    },
    {
      "cell_type": "markdown",
      "source": [
        "# Dataset and Dataloader"
      ],
      "metadata": {
        "id": "AeQfC4x4AwHu"
      }
    },
    {
      "cell_type": "code",
      "source": [
        "dataset = dataset.MNIST(root='./data', train=True, download=True, transform=transforms.ToTensor())\n",
        "dataloader = DataLoader(dataset, batch_size=32, shuffle=True)\n"
      ],
      "metadata": {
        "colab": {
          "base_uri": "https://localhost:8080/"
        },
        "id": "_nLl4-iIAkQ3",
        "outputId": "07b8ec5b-eea9-4ef2-a083-94a3692ccc7d"
      },
      "execution_count": 3,
      "outputs": [
        {
          "output_type": "stream",
          "name": "stdout",
          "text": [
            "Downloading http://yann.lecun.com/exdb/mnist/train-images-idx3-ubyte.gz\n",
            "Failed to download (trying next):\n",
            "HTTP Error 403: Forbidden\n",
            "\n",
            "Downloading https://ossci-datasets.s3.amazonaws.com/mnist/train-images-idx3-ubyte.gz\n",
            "Downloading https://ossci-datasets.s3.amazonaws.com/mnist/train-images-idx3-ubyte.gz to ./data/MNIST/raw/train-images-idx3-ubyte.gz\n"
          ]
        },
        {
          "output_type": "stream",
          "name": "stderr",
          "text": [
            "100%|██████████| 9.91M/9.91M [00:00<00:00, 18.3MB/s]\n"
          ]
        },
        {
          "output_type": "stream",
          "name": "stdout",
          "text": [
            "Extracting ./data/MNIST/raw/train-images-idx3-ubyte.gz to ./data/MNIST/raw\n",
            "\n",
            "Downloading http://yann.lecun.com/exdb/mnist/train-labels-idx1-ubyte.gz\n",
            "Failed to download (trying next):\n",
            "HTTP Error 403: Forbidden\n",
            "\n",
            "Downloading https://ossci-datasets.s3.amazonaws.com/mnist/train-labels-idx1-ubyte.gz\n",
            "Downloading https://ossci-datasets.s3.amazonaws.com/mnist/train-labels-idx1-ubyte.gz to ./data/MNIST/raw/train-labels-idx1-ubyte.gz\n"
          ]
        },
        {
          "output_type": "stream",
          "name": "stderr",
          "text": [
            "100%|██████████| 28.9k/28.9k [00:00<00:00, 494kB/s]\n"
          ]
        },
        {
          "output_type": "stream",
          "name": "stdout",
          "text": [
            "Extracting ./data/MNIST/raw/train-labels-idx1-ubyte.gz to ./data/MNIST/raw\n",
            "\n",
            "Downloading http://yann.lecun.com/exdb/mnist/t10k-images-idx3-ubyte.gz\n",
            "Failed to download (trying next):\n",
            "HTTP Error 403: Forbidden\n",
            "\n",
            "Downloading https://ossci-datasets.s3.amazonaws.com/mnist/t10k-images-idx3-ubyte.gz\n",
            "Downloading https://ossci-datasets.s3.amazonaws.com/mnist/t10k-images-idx3-ubyte.gz to ./data/MNIST/raw/t10k-images-idx3-ubyte.gz\n"
          ]
        },
        {
          "output_type": "stream",
          "name": "stderr",
          "text": [
            "100%|██████████| 1.65M/1.65M [00:00<00:00, 4.50MB/s]\n"
          ]
        },
        {
          "output_type": "stream",
          "name": "stdout",
          "text": [
            "Extracting ./data/MNIST/raw/t10k-images-idx3-ubyte.gz to ./data/MNIST/raw\n",
            "\n",
            "Downloading http://yann.lecun.com/exdb/mnist/t10k-labels-idx1-ubyte.gz\n",
            "Failed to download (trying next):\n",
            "HTTP Error 403: Forbidden\n",
            "\n",
            "Downloading https://ossci-datasets.s3.amazonaws.com/mnist/t10k-labels-idx1-ubyte.gz\n",
            "Downloading https://ossci-datasets.s3.amazonaws.com/mnist/t10k-labels-idx1-ubyte.gz to ./data/MNIST/raw/t10k-labels-idx1-ubyte.gz\n"
          ]
        },
        {
          "output_type": "stream",
          "name": "stderr",
          "text": [
            "100%|██████████| 4.54k/4.54k [00:00<00:00, 3.98MB/s]"
          ]
        },
        {
          "output_type": "stream",
          "name": "stdout",
          "text": [
            "Extracting ./data/MNIST/raw/t10k-labels-idx1-ubyte.gz to ./data/MNIST/raw\n",
            "\n"
          ]
        },
        {
          "output_type": "stream",
          "name": "stderr",
          "text": [
            "\n"
          ]
        }
      ]
    },
    {
      "cell_type": "markdown",
      "source": [
        "# Train"
      ],
      "metadata": {
        "id": "IKBqudD9BAsv"
      }
    },
    {
      "cell_type": "code",
      "source": [
        "device = 'cuda' if torch.cuda.is_available() else 'cpu'"
      ],
      "metadata": {
        "id": "eYlrc--PCaJ9"
      },
      "execution_count": 4,
      "outputs": []
    },
    {
      "cell_type": "code",
      "source": [
        "EPOCH = 10\n",
        "LR_RATE = 1e-4\n",
        "INPUT_DIM = 784\n",
        "H_DIM = 256\n",
        "Z_DIM = 20\n",
        "\n",
        "model = VariationalAutoEncoder(INPUT_DIM,H_DIM,Z_DIM)\n",
        "loss_fn = nn.BCELoss(reduction='sum')\n",
        "optimizer = optim.Adam(model.parameters(), lr=LR_RATE)\n",
        "\n"
      ],
      "metadata": {
        "id": "ScpyP--CA7fo"
      },
      "execution_count": 5,
      "outputs": []
    },
    {
      "cell_type": "code",
      "source": [
        "for i in range(EPOCH):\n",
        "  loop = tqdm(enumerate(dataloader))\n",
        "  for i,(x,y) in loop:\n",
        "    x = x.view(x.shape[0],-1)\n",
        "    x_reconstructed, mu, sigma = model(x)\n",
        "\n",
        "    x_reconstructed = loss_fn(x_reconstructed,x)\n",
        "    kl_div = -torch.sum(1 + torch.log(sigma.pow(2)) - mu.pow(2) - sigma.pow(2))\n",
        "\n",
        "    loss = x_reconstructed + kl_div\n",
        "    optimizer.zero_grad()\n",
        "    loss.backward()\n",
        "    optimizer.step()\n",
        "    loop.set_postfix(loss=loss.item())\n",
        "\n"
      ],
      "metadata": {
        "colab": {
          "base_uri": "https://localhost:8080/"
        },
        "id": "xq8u8mgdBfqd",
        "outputId": "ebe06b53-6488-4897-f18d-fbaa22c3f06f"
      },
      "execution_count": 7,
      "outputs": [
        {
          "output_type": "stream",
          "name": "stderr",
          "text": [
            "1875it [00:27, 68.61it/s, loss=5.89e+3]\n",
            "1875it [00:28, 66.65it/s, loss=5.08e+3]\n",
            "1875it [00:28, 64.72it/s, loss=5.23e+3]\n",
            "1875it [00:27, 68.41it/s, loss=4.84e+3]\n",
            "1875it [00:27, 69.02it/s, loss=4.85e+3]\n",
            "1875it [00:27, 69.25it/s, loss=4.91e+3]\n",
            "1875it [00:27, 68.37it/s, loss=4.58e+3]\n",
            "1875it [00:27, 69.21it/s, loss=4.86e+3]\n",
            "1875it [00:26, 69.76it/s, loss=4.26e+3]\n",
            "1875it [00:27, 69.35it/s, loss=4.22e+3]\n"
          ]
        }
      ]
    },
    {
      "cell_type": "markdown",
      "source": [
        "#Inference"
      ],
      "metadata": {
        "id": "snNmq2qIEL_8"
      }
    },
    {
      "cell_type": "code",
      "source": [
        "images = []\n",
        "idx = 0\n",
        "for x,y in dataset:\n",
        "  if y == idx:\n",
        "    images.append(x)"
      ],
      "metadata": {
        "id": "D694uGc9B4-N"
      },
      "execution_count": 8,
      "outputs": []
    },
    {
      "cell_type": "code",
      "source": [
        "encodings_digit=[]\n",
        "with torch.no_grad():\n",
        "    mu, sigma = model.encoder(images[0].view(1, 784))\n",
        "    encodings_digit.append((mu, sigma))\n",
        "\n",
        "mu, sigma = encodings_digit[0]\n",
        "\n",
        "epsilon = torch.randn_like(sigma)\n",
        "z = mu + sigma * epsilon\n",
        "out = model.decoder(z)\n",
        "out = out.view(-1, 1, 28, 28)\n",
        "save_image(out, f\"generated_{0}_ex{0}.png\")\n"
      ],
      "metadata": {
        "id": "zWvn-HB0Eein"
      },
      "execution_count": 11,
      "outputs": []
    },
    {
      "cell_type": "code",
      "source": [
        "print(out.shape)"
      ],
      "metadata": {
        "colab": {
          "base_uri": "https://localhost:8080/"
        },
        "id": "rnIDprfCFUd6",
        "outputId": "0ae78744-3243-4c92-8f0e-0524406520e2"
      },
      "execution_count": 12,
      "outputs": [
        {
          "output_type": "stream",
          "name": "stdout",
          "text": [
            "torch.Size([1, 1, 28, 28])\n"
          ]
        }
      ]
    },
    {
      "cell_type": "code",
      "source": [
        "reconstracted_img = out.squeeze().detach().numpy()\n",
        "img = images[0].squeeze().detach().numpy()\n",
        "# Create a figure and specify the grid layout\n",
        "plt.figure(figsize=(10, 5))\n",
        "\n",
        "# Plot the first image\n",
        "plt.subplot(1, 2, 1)  # 1 row, 2 columns, plot 1st image\n",
        "plt.imshow(reconstracted_img, cmap='gray')\n",
        "plt.title(\"Reconstracted Img\")\n",
        "plt.axis('off')  # Turn off axis\n",
        "\n",
        "# Plot the second image\n",
        "plt.subplot(1, 2, 2)  # 1 row, 2 columns, plot 2nd image\n",
        "plt.imshow(img, cmap='gray')\n",
        "plt.title(\"Real Image\")\n",
        "plt.axis('off')  # Turn off axis\n",
        "\n",
        "# Show the plot\n",
        "plt.show()"
      ],
      "metadata": {
        "colab": {
          "base_uri": "https://localhost:8080/",
          "height": 411
        },
        "id": "Ey1TjPmGFcY6",
        "outputId": "1f673adc-9544-4f29-9e4c-f1ff5ddba967"
      },
      "execution_count": 21,
      "outputs": [
        {
          "output_type": "display_data",
          "data": {
            "text/plain": [
              "<Figure size 1000x500 with 2 Axes>"
            ],
            "image/png": "[encoded data removed]"
          },
          "metadata": {}
        }
      ]
    },
    {
      "cell_type": "code",
      "source": [
        "y,m,s = model(images[0].view(1, 784))\n",
        "y = y.view(-1,1,28,28)\n"
      ],
      "metadata": {
        "colab": {
          "base_uri": "https://localhost:8080/"
        },
        "id": "eTKIOrqBFgoI",
        "outputId": "3b4a3b7f-5bcb-427c-da04-e0b384b28de9"
      },
      "execution_count": 26,
      "outputs": [
        {
          "output_type": "stream",
          "name": "stdout",
          "text": [
            "torch.Size([1, 1, 28, 28])\n"
          ]
        }
      ]
    },
    {
      "cell_type": "code",
      "source": [
        "temp = y.squeeze().detach().numpy()\n",
        "# Create a figure and specify the grid layout\n",
        "plt.figure(figsize=(10, 5))\n",
        "\n",
        "# Plot the first image\n",
        "plt.subplot(1, 2, 1)  # 1 row, 2 columns, plot 1st image\n",
        "plt.imshow(temp, cmap='gray')\n",
        "plt.title(\"Reconstracted Img\")\n",
        "plt.axis('off')  # Turn off axis\n"
      ],
      "metadata": {
        "colab": {
          "base_uri": "https://localhost:8080/",
          "height": 428
        },
        "id": "FndwKeZxGlgR",
        "outputId": "2e84611e-f8df-4b48-dad8-4c0844e0e91a"
      },
      "execution_count": 27,
      "outputs": [
        {
          "output_type": "execute_result",
          "data": {
            "text/plain": [
              "(-0.5, 27.5, 27.5, -0.5)"
            ]
          },
          "metadata": {},
          "execution_count": 27
        },
        {
          "output_type": "display_data",
          "data": {
            "text/plain": [
              "<Figure size 1000x500 with 1 Axes>"
            ],
            "image/png": "[encoded data removed]"
          },
          "metadata": {}
        }
      ]
    },
    {
      "cell_type": "code",
      "source": [],
      "metadata": {
        "id": "5oAHUXChHBn6"
      },
      "execution_count": null,
      "outputs": []
    }
  ]
}